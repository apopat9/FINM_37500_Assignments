{
 "cells": [
  {
   "cell_type": "markdown",
   "id": "ca82052b",
   "metadata": {},
   "source": [
    "# Homework 3\n",
    "\n",
    "## FINM 37500: Fixed Income Derivatives\n",
    "\n",
    "### Mark Hendricks\n",
    "\n",
    "#### Winter 2024"
   ]
  },
  {
   "cell_type": "markdown",
   "id": "936ac3af",
   "metadata": {},
   "source": [
    "### Imports"
   ]
  },
  {
   "cell_type": "code",
   "execution_count": 12,
   "id": "0db8ac2a",
   "metadata": {},
   "outputs": [],
   "source": [
    "import numpy as np\n",
    "import pandas as pd\n",
    "import seaborn as sns\n",
    "import matplotlib.pyplot as plt\n",
    "import warnings\n",
    "warnings.filterwarnings(\"ignore\")\n",
    "\n",
    "import sys\n",
    "sys.path.insert(0, '../cmds')\n",
    "from ficcvol import *\n",
    "from binomial import *\n",
    "from ratecurves import *\n",
    "from binomial import *\n",
    "from ficcvol import *\n",
    "from ratecurves import *"
   ]
  },
  {
   "cell_type": "markdown",
   "id": "b68b6b5c",
   "metadata": {},
   "source": [
    "# 1. Modeling the Volatility Smile"
   ]
  },
  {
   "cell_type": "markdown",
   "id": "cfebfc72",
   "metadata": {},
   "source": [
    "## Swaption Vol Data\n",
    "\n",
    "The file `data/swaption_vol_data_2024-02-20.xlsx` has market data on the implied volatility skews for swaptions. Note that it has several columns:\n",
    "* `expry`: expiration of the swaption\n",
    "* `tenor`: tenor of the underlying swap\n",
    "* `model`: the model by which the volatility is quoted. (All are Black.)\n",
    "* `-200`, `-100`, etc.: The strike listed as difference from ATM strike (bps). Note that ATM is considered to be the **forward swapa rate** which you can calculate."
   ]
  },
  {
   "cell_type": "markdown",
   "id": "990b0bf8",
   "metadata": {},
   "source": [
    "Your data: ywill use a single row of this data for the `1x4` swaption.\n",
    "* date: `2024-02-20`\n",
    "* expiration: 1yr\n",
    "* tenor: 4yrs"
   ]
  },
  {
   "cell_type": "markdown",
   "id": "962e73a1",
   "metadata": {},
   "source": [
    "## Rate Data\n",
    "\n",
    "The file `data/cap_quotes_2024-02-20.xlsx` gives \n",
    "* SOFR swap rates, \n",
    "* their associated discount factors\n",
    "* their associated forward interest rates.\n",
    "\n",
    "You will not need the cap data (flat or forward vols) for this problem.\n",
    "* This cap data would be helpful in calibrating a binomial tree, but this problem focuses on Black's formula and SABR."
   ]
  },
  {
   "cell_type": "code",
   "execution_count": 13,
   "id": "3e624607",
   "metadata": {},
   "outputs": [],
   "source": [
    "DATE = '2024-02-20'\n",
    "freqcurve = 4\n",
    "\n",
    "SWAP_TYPE = 'SOFR'\n",
    "QUOTE_STYLE = 'black'\n",
    "RELATIVE_STRIKE = 0\n",
    "\n",
    "expry = 1\n",
    "tenor = 4\n",
    "\n",
    "freqswap = 4\n",
    "isPayer=True\n",
    "N = 100"
   ]
  },
  {
   "cell_type": "code",
   "execution_count": 17,
   "id": "29a1b399",
   "metadata": {},
   "outputs": [
    {
     "data": {
      "text/html": [
       "<div>\n",
       "<style scoped>\n",
       "    .dataframe tbody tr th:only-of-type {\n",
       "        vertical-align: middle;\n",
       "    }\n",
       "\n",
       "    .dataframe tbody tr th {\n",
       "        vertical-align: top;\n",
       "    }\n",
       "\n",
       "    .dataframe thead th {\n",
       "        text-align: right;\n",
       "    }\n",
       "</style>\n",
       "<table border=\"1\" class=\"dataframe\">\n",
       "  <thead>\n",
       "    <tr style=\"text-align: right;\">\n",
       "      <th></th>\n",
       "      <th>swap rates</th>\n",
       "      <th>spot rates</th>\n",
       "      <th>discounts</th>\n",
       "      <th>forwards</th>\n",
       "      <th>flat vols</th>\n",
       "      <th>fwd vols</th>\n",
       "    </tr>\n",
       "    <tr>\n",
       "      <th>tenor</th>\n",
       "      <th></th>\n",
       "      <th></th>\n",
       "      <th></th>\n",
       "      <th></th>\n",
       "      <th></th>\n",
       "      <th></th>\n",
       "    </tr>\n",
       "  </thead>\n",
       "  <tbody>\n",
       "    <tr>\n",
       "      <th>0.25</th>\n",
       "      <td>0.052211</td>\n",
       "      <td>0.052211</td>\n",
       "      <td>0.987115</td>\n",
       "      <td>NaN</td>\n",
       "      <td>NaN</td>\n",
       "      <td>NaN</td>\n",
       "    </tr>\n",
       "    <tr>\n",
       "      <th>0.50</th>\n",
       "      <td>0.051540</td>\n",
       "      <td>0.051535</td>\n",
       "      <td>0.974722</td>\n",
       "      <td>0.050860</td>\n",
       "      <td>0.166025</td>\n",
       "      <td>0.166025</td>\n",
       "    </tr>\n",
       "    <tr>\n",
       "      <th>0.75</th>\n",
       "      <td>0.050506</td>\n",
       "      <td>0.050490</td>\n",
       "      <td>0.963069</td>\n",
       "      <td>0.048400</td>\n",
       "      <td>0.191290</td>\n",
       "      <td>0.210648</td>\n",
       "    </tr>\n",
       "    <tr>\n",
       "      <th>1.00</th>\n",
       "      <td>0.049284</td>\n",
       "      <td>0.049250</td>\n",
       "      <td>0.952230</td>\n",
       "      <td>0.045531</td>\n",
       "      <td>0.216554</td>\n",
       "      <td>0.254312</td>\n",
       "    </tr>\n",
       "    <tr>\n",
       "      <th>1.25</th>\n",
       "      <td>0.047631</td>\n",
       "      <td>0.047565</td>\n",
       "      <td>0.942608</td>\n",
       "      <td>0.040831</td>\n",
       "      <td>0.260043</td>\n",
       "      <td>0.361247</td>\n",
       "    </tr>\n",
       "    <tr>\n",
       "      <th>1.50</th>\n",
       "      <td>0.046235</td>\n",
       "      <td>0.046141</td>\n",
       "      <td>0.933499</td>\n",
       "      <td>0.039030</td>\n",
       "      <td>0.292615</td>\n",
       "      <td>0.380930</td>\n",
       "    </tr>\n",
       "    <tr>\n",
       "      <th>1.75</th>\n",
       "      <td>0.045059</td>\n",
       "      <td>0.044939</td>\n",
       "      <td>0.924774</td>\n",
       "      <td>0.037738</td>\n",
       "      <td>0.315878</td>\n",
       "      <td>0.388953</td>\n",
       "    </tr>\n",
       "    <tr>\n",
       "      <th>2.00</th>\n",
       "      <td>0.044133</td>\n",
       "      <td>0.043994</td>\n",
       "      <td>0.916212</td>\n",
       "      <td>0.037382</td>\n",
       "      <td>0.331443</td>\n",
       "      <td>0.386643</td>\n",
       "    </tr>\n",
       "    <tr>\n",
       "      <th>2.25</th>\n",
       "      <td>0.043173</td>\n",
       "      <td>0.043011</td>\n",
       "      <td>0.908230</td>\n",
       "      <td>0.035151</td>\n",
       "      <td>0.340919</td>\n",
       "      <td>0.376247</td>\n",
       "    </tr>\n",
       "    <tr>\n",
       "      <th>2.50</th>\n",
       "      <td>0.042461</td>\n",
       "      <td>0.042283</td>\n",
       "      <td>0.900188</td>\n",
       "      <td>0.035738</td>\n",
       "      <td>0.345916</td>\n",
       "      <td>0.363764</td>\n",
       "    </tr>\n",
       "    <tr>\n",
       "      <th>2.75</th>\n",
       "      <td>0.041934</td>\n",
       "      <td>0.041745</td>\n",
       "      <td>0.892076</td>\n",
       "      <td>0.036373</td>\n",
       "      <td>0.348042</td>\n",
       "      <td>0.353513</td>\n",
       "    </tr>\n",
       "    <tr>\n",
       "      <th>3.00</th>\n",
       "      <td>0.041542</td>\n",
       "      <td>0.041347</td>\n",
       "      <td>0.883906</td>\n",
       "      <td>0.036973</td>\n",
       "      <td>0.348907</td>\n",
       "      <td>0.349207</td>\n",
       "    </tr>\n",
       "    <tr>\n",
       "      <th>3.25</th>\n",
       "      <td>0.041101</td>\n",
       "      <td>0.040896</td>\n",
       "      <td>0.876134</td>\n",
       "      <td>0.035482</td>\n",
       "      <td>0.349778</td>\n",
       "      <td>0.350339</td>\n",
       "    </tr>\n",
       "    <tr>\n",
       "      <th>3.50</th>\n",
       "      <td>0.040690</td>\n",
       "      <td>0.040473</td>\n",
       "      <td>0.868539</td>\n",
       "      <td>0.034978</td>\n",
       "      <td>0.350549</td>\n",
       "      <td>0.351556</td>\n",
       "    </tr>\n",
       "    <tr>\n",
       "      <th>3.75</th>\n",
       "      <td>0.040416</td>\n",
       "      <td>0.040195</td>\n",
       "      <td>0.860726</td>\n",
       "      <td>0.036309</td>\n",
       "      <td>0.350772</td>\n",
       "      <td>0.349233</td>\n",
       "    </tr>\n",
       "    <tr>\n",
       "      <th>4.00</th>\n",
       "      <td>0.040197</td>\n",
       "      <td>0.039974</td>\n",
       "      <td>0.852910</td>\n",
       "      <td>0.036657</td>\n",
       "      <td>0.349998</td>\n",
       "      <td>0.339501</td>\n",
       "    </tr>\n",
       "    <tr>\n",
       "      <th>4.25</th>\n",
       "      <td>0.039940</td>\n",
       "      <td>0.039710</td>\n",
       "      <td>0.845410</td>\n",
       "      <td>0.035486</td>\n",
       "      <td>0.347970</td>\n",
       "      <td>0.322525</td>\n",
       "    </tr>\n",
       "  </tbody>\n",
       "</table>\n",
       "</div>"
      ],
      "text/plain": [
       "       swap rates  spot rates  discounts  forwards  flat vols  fwd vols\n",
       "tenor                                                                  \n",
       "0.25     0.052211    0.052211   0.987115       NaN        NaN       NaN\n",
       "0.50     0.051540    0.051535   0.974722  0.050860   0.166025  0.166025\n",
       "0.75     0.050506    0.050490   0.963069  0.048400   0.191290  0.210648\n",
       "1.00     0.049284    0.049250   0.952230  0.045531   0.216554  0.254312\n",
       "1.25     0.047631    0.047565   0.942608  0.040831   0.260043  0.361247\n",
       "1.50     0.046235    0.046141   0.933499  0.039030   0.292615  0.380930\n",
       "1.75     0.045059    0.044939   0.924774  0.037738   0.315878  0.388953\n",
       "2.00     0.044133    0.043994   0.916212  0.037382   0.331443  0.386643\n",
       "2.25     0.043173    0.043011   0.908230  0.035151   0.340919  0.376247\n",
       "2.50     0.042461    0.042283   0.900188  0.035738   0.345916  0.363764\n",
       "2.75     0.041934    0.041745   0.892076  0.036373   0.348042  0.353513\n",
       "3.00     0.041542    0.041347   0.883906  0.036973   0.348907  0.349207\n",
       "3.25     0.041101    0.040896   0.876134  0.035482   0.349778  0.350339\n",
       "3.50     0.040690    0.040473   0.868539  0.034978   0.350549  0.351556\n",
       "3.75     0.040416    0.040195   0.860726  0.036309   0.350772  0.349233\n",
       "4.00     0.040197    0.039974   0.852910  0.036657   0.349998  0.339501\n",
       "4.25     0.039940    0.039710   0.845410  0.035486   0.347970  0.322525"
      ]
     },
     "execution_count": 17,
     "metadata": {},
     "output_type": "execute_result"
    }
   ],
   "source": [
    "curves = pd.read_excel(f'../data/cap_curves_{DATE}.xlsx', sheet_name=f'rate curves {DATE}').set_index('tenor')\n",
    "curves.loc[:4.25]"
   ]
  },
  {
   "cell_type": "code",
   "execution_count": 15,
   "id": "577c157c",
   "metadata": {},
   "outputs": [],
   "source": [
    "Topt = expry\n",
    "Tswap = Topt+tenor\n",
    "\n",
    "fwdrate = curves['forwards'][Topt]\n",
    "\n",
    "fwdswap = calc_fwdswaprate(curves['discounts'], Topt, Tswap, freqswap=freqswap)"
   ]
  },
  {
   "cell_type": "markdown",
   "id": "a11eb456",
   "metadata": {},
   "source": [
    "## The Swaption\n",
    "\n",
    "Consider the following swaption with the following features:\n",
    "* underlying is a fixed-for-floating (SOFR) swap\n",
    "* the underlying swap has **quarterly** payment frequency\n",
    "* this is a **payer** swaption, which gives the holder the option to **pay** the fixed swap rate and receive SOFR."
   ]
  },
  {
   "cell_type": "markdown",
   "id": "934185d4",
   "metadata": {},
   "source": [
    "## 1.1\n",
    "Calculate the (relevant) forward swap rate. That is, the one-year forward 4-year swap rate.\n",
    "\n",
    "## 1.2\n",
    "Price the swaptions at the quoted implied volatilites and corresponding strikes, all using the just-calculated forward swap rate as the underlying.\n",
    "\n",
    "## 1.3\n",
    "To consider how the expiration and tenor matter, calculate the prices of a few other swaptions for comparison. \n",
    "* No need to get other implied vol quotes--just use the ATM implied vol you have for the 1x2 above. (Here we are just interested in how Black's formula changes with changes in tenor and expiration.\n",
    "* No need to calculate for all the strikes--just do the ATM strike.\n",
    "\n",
    "Alternate swaptions\n",
    "* The 3mo x 4yr swaption\n",
    "* The 2yr x 4yr swaption\n",
    "* the 1yr x 2yr swaption\n",
    "\n",
    "Report these values and compare them to the price of the `1y x 4y` swaption."
   ]
  },
  {
   "cell_type": "markdown",
   "id": "e9746e05",
   "metadata": {},
   "source": [
    "***"
   ]
  },
  {
   "cell_type": "markdown",
   "id": "f2a00b41",
   "metadata": {},
   "source": [
    "# 2. Pricing w/ BDT"
   ]
  },
  {
   "cell_type": "markdown",
   "id": "d2ac5d05",
   "metadata": {},
   "source": [
    "Use the data in `cap_curves_2024-02-20.xlsx`."
   ]
  },
  {
   "cell_type": "markdown",
   "id": "833dcc00",
   "metadata": {},
   "source": [
    "## 2.1\n",
    "\n",
    "Calibrate the BDT Tree\n",
    "* theta to fit the term structure discounts.\n",
    "* sigma to fit the fwd vols from the cap data.\n",
    "\n",
    "Report the rate tree through $T=5$. Report trees for rates compounded\n",
    "* continuously\n",
    "* annually"
   ]
  },
  {
   "cell_type": "markdown",
   "id": "db143f00",
   "metadata": {},
   "source": [
    "## 2.2\n",
    "\n",
    "Use a tree to price a vanilla fixed-rate, 5-year bond with coupon rate equal to the forward swap rate calculated in problem `1.1.`"
   ]
  },
  {
   "cell_type": "markdown",
   "id": "fd919c2a",
   "metadata": {},
   "source": [
    "## 2.3"
   ]
  },
  {
   "cell_type": "markdown",
   "id": "de00e13f",
   "metadata": {},
   "source": [
    "We will calculate the binomial tree for the 5-year swap, but here we do so by valuing the swap as...\n",
    "\n",
    "$$\\text{payer swap} = \\text{floating rate note} - \\text{fixed-rate bond}$$\n",
    "\n",
    "Recall for the Floating-Rate Note:\n",
    "* It has par value of 100 at each reset date.\n",
    "* Every node is a reset date given the assumptions of the swap timing.\n",
    "\n",
    "Report the tree for the 5-year swap."
   ]
  },
  {
   "cell_type": "markdown",
   "id": "8ed71f2a",
   "metadata": {},
   "source": [
    "## 2.4\n",
    "\n"
   ]
  },
  {
   "cell_type": "markdown",
   "id": "3d24ccdf",
   "metadata": {},
   "source": [
    "Report the binomial tree for the one-year swaption on a 4-year swap with **european** exercise.\n",
    "* At expiration, the swap tree from 2.3 will have 4 years left, as desired for pricing the 1y-4y swaption."
   ]
  },
  {
   "cell_type": "markdown",
   "id": "3456d9fb",
   "metadata": {},
   "source": [
    "## 2.5\n",
    "\n",
    "Compare the pricing of the 1y4y swaption from Black's formula in Section 1 vs the binomial tree."
   ]
  },
  {
   "cell_type": "markdown",
   "id": "9b48f775",
   "metadata": {},
   "source": [
    "## 2.6\n",
    "\n",
    "Reprice the swaption using the BDT tree, but this time assuming it is **american**-style exercise."
   ]
  },
  {
   "cell_type": "markdown",
   "id": "3f8b5904",
   "metadata": {},
   "source": [
    "***"
   ]
  },
  {
   "cell_type": "markdown",
   "id": "4723c360",
   "metadata": {},
   "source": [
    "# 3. Midcurve Swaptions"
   ]
  },
  {
   "cell_type": "markdown",
   "id": "d82b9549",
   "metadata": {},
   "source": [
    "## 3.1 \n",
    "\n",
    "Use the BDT tree from section 2 to price a **european** midcurve swaption 1y $\\rightarrow$ 2y $\\rightarrow$ 2y."
   ]
  },
  {
   "cell_type": "markdown",
   "id": "9778a9a9",
   "metadata": {},
   "source": [
    "## 3.2\n",
    "\n",
    "Price the **american** midcurve swaption 1y$\\rightarrow$2y$\\rightarrow$2y."
   ]
  },
  {
   "cell_type": "markdown",
   "id": "87c2a446",
   "metadata": {},
   "source": [
    "***"
   ]
  }
 ],
 "metadata": {
  "hide_input": false,
  "kernelspec": {
   "display_name": "Python 3 (ipykernel)",
   "language": "python",
   "name": "python3"
  },
  "language_info": {
   "codemirror_mode": {
    "name": "ipython",
    "version": 3
   },
   "file_extension": ".py",
   "mimetype": "text/x-python",
   "name": "python",
   "nbconvert_exporter": "python",
   "pygments_lexer": "ipython3",
   "version": "3.11.8"
  }
 },
 "nbformat": 4,
 "nbformat_minor": 5
}
